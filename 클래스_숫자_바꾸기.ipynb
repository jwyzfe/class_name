{
  "nbformat": 4,
  "nbformat_minor": 0,
  "metadata": {
    "colab": {
      "provenance": []
    },
    "kernelspec": {
      "name": "python3",
      "display_name": "Python 3"
    },
    "language_info": {
      "name": "python"
    }
  },
  "cells": [
    {
      "cell_type": "code",
      "source": [
        "#colab과 googledrive 연동\n",
        "from google.colab import drive\n",
        "drive.mount('/content/drive')"
      ],
      "metadata": {
        "colab": {
          "base_uri": "https://localhost:8080/"
        },
        "id": "DMsSXXZm1jwA",
        "outputId": "7a89ba4e-2c40-4681-bb1b-eb9b75c7b045"
      },
      "execution_count": null,
      "outputs": [
        {
          "output_type": "stream",
          "name": "stdout",
          "text": [
            "Drive already mounted at /content/drive; to attempt to forcibly remount, call drive.mount(\"/content/drive\", force_remount=True).\n"
          ]
        }
      ]
    },
    {
      "cell_type": "code",
      "execution_count": null,
      "metadata": {
        "id": "KG5Ksxu20azq",
        "colab": {
          "base_uri": "https://localhost:8080/"
        },
        "outputId": "4faa1772-d2ee-49ac-af0b-822540a81cd4"
      },
      "outputs": [
        {
          "output_type": "stream",
          "name": "stdout",
          "text": [
            "파일 내용 수정 완료\n"
          ]
        }
      ],
      "source": [
        "import os  # os 모듈을 가져옵니다.\n",
        "\n",
        "# 디렉토리 경로\n",
        "data_dir = '/content/drive/MyDrive/bee_yolo_hornet/data/data_total2'\n",
        "\n",
        "# 디렉토리 내 모든 파일 목록 가져오기\n",
        "files = os.listdir(data_dir)  # 지정된 디렉토리 내 모든 파일과 디렉토리의 목록을 가져옵니다.\n",
        "\n",
        "# mm으로 시작하는 텍스트 파일 내용 수정\n",
        "for file_name in files:  # 파일 목록을 반복하면서 각 파일에 대한 작업을 수행합니다.\n",
        "    if file_name.startswith(\"ho\") and file_name.endswith(\".txt\"):  # 파일 이름이 \"mm\"으로 시작하고 확장자가 \".txt\"로 끝나는 경우\n",
        "        file_path = os.path.join(data_dir, file_name)  # 파일 경로를 생성하여 파일에 액세스합니다.\n",
        "\n",
        "        with open(file_path, 'r') as file:  # 파일을 읽기 모드('r')로 엽니다.\n",
        "            content = file.read()  # 파일 내용을 읽어옵니다.\n",
        "\n",
        "        if content:  # 파일 내용이 비어 있지 않은 경우\n",
        "            modified_content = \"2\" + content[1:]  # 파일 내용을 수정하여 가장 앞 글자를 '1'로 바꾸고 나머지는 그대로 유지합니다.\n",
        "\n",
        "            with open(file_path, 'w') as file:  # 파일을 쓰기 모드('w')로 엽니다.\n",
        "                file.write(modified_content)  # 수정된 내용을 파일에 씁니다.\n",
        "\n",
        "print(\"파일 내용 수정 완료\")  # 모든 파일에 대한 내용 수정이 완료되면 메시지를 출력합니다.\n"
      ]
    }
  ]
}